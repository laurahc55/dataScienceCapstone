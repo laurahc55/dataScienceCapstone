{
  "metadata": {
    "kernelspec": {
      "name": "python",
      "display_name": "Python (Pyodide)",
      "language": "python"
    },
    "language_info": {
      "codemirror_mode": {
        "name": "python",
        "version": 3
      },
      "file_extension": ".py",
      "mimetype": "text/x-python",
      "name": "python",
      "nbconvert_exporter": "python",
      "pygments_lexer": "ipython3",
      "version": "3.8"
    },
    "prev_pub_hash": "660ea41267af378af1b87f015ad0e76833cde9ca552964b4ed464ff4a8f5a6f7"
  },
  "nbformat_minor": 4,
  "nbformat": 4,
  "cells": [
    {
      "cell_type": "markdown",
      "source": "<center>\n    <img src=\"https://cf-courses-data.s3.us.cloud-object-storage.appdomain.cloud/IBMDeveloperSkillsNetwork-PY0220EN-SkillsNetwork/labs/project/Images/SN_logo.png\" width=\"300\" alt=\"cognitiveclass.ai logo\">\n</center>\n",
      "metadata": {}
    },
    {
      "cell_type": "markdown",
      "source": "<h1>Extracting Stock Data Using a Python Library</h1>\n",
      "metadata": {}
    },
    {
      "cell_type": "markdown",
      "source": "A company's stock share is a piece of the company more precisely:\n<p><b>A stock (also known as equity) is a security that represents the ownership of a fraction of a corporation. This\nentitles the owner of the stock to a proportion of the corporation's assets and profits equal to how much stock they own. Units of stock are called \"shares.\" [1]</p></b>\n\nAn investor can buy a stock and sell it later. If the stock price increases, the investor profits, If it decreases,the investor with incur a loss.  Determining the stock price is complex; it depends on the number of outstanding shares, the size of the company's future profits, and much more. People trade stocks throughout the day the stock ticker is a report of the price of a certain stock, updated continuously throughout the trading session by the various stock market exchanges. \n<p>You are a data scientist working for a hedge fund; it's your job to determine any suspicious stock activity. In this lab you will extract stock data using a Python library. We will use the <coode>yfinance</code> library, it allows us to extract data for stocks returning data in a pandas dataframe. You will use the lab to extract.</p>\n",
      "metadata": {}
    },
    {
      "cell_type": "markdown",
      "source": "<h2>Table of Contents</h2>\n<div class=\"alert alert-block alert-info\" style=\"margin-top: 20px\">\n    <ul>\n        <li>Using yfinance to Extract Stock Info</li>\n        <li>Using yfinance to Extract Historical Share Price Data</li>\n        <li>Using yfinance to Extract Historical Dividends Data</li>\n        <li>Exercise</li>\n    </ul>\n<p>\n    Estimated Time Needed: <strong>30 min</strong></p>\n</div>\n\n<hr>\n",
      "metadata": {}
    },
    {
      "cell_type": "code",
      "source": "!pip install yfinance\n!pip install pandas\n!pip install matplotlib",
      "metadata": {},
      "outputs": [
        {
          "name": "stdout",
          "output_type": "stream",
          "text": [
            "Requirement already satisfied: yfinance in /opt/conda/lib/python3.11/site-packages (0.2.43)\n",
            "Requirement already satisfied: pandas>=1.3.0 in /opt/conda/lib/python3.11/site-packages (from yfinance) (2.2.3)\n",
            "Requirement already satisfied: numpy>=1.16.5 in /opt/conda/lib/python3.11/site-packages (from yfinance) (2.1.1)\n",
            "Requirement already satisfied: requests>=2.31 in /opt/conda/lib/python3.11/site-packages (from yfinance) (2.31.0)\n",
            "Requirement already satisfied: multitasking>=0.0.7 in /opt/conda/lib/python3.11/site-packages (from yfinance) (0.0.11)\n",
            "Requirement already satisfied: lxml>=4.9.1 in /opt/conda/lib/python3.11/site-packages (from yfinance) (5.3.0)\n",
            "Requirement already satisfied: platformdirs>=2.0.0 in /opt/conda/lib/python3.11/site-packages (from yfinance) (4.2.1)\n",
            "Requirement already satisfied: pytz>=2022.5 in /opt/conda/lib/python3.11/site-packages (from yfinance) (2024.1)\n",
            "Requirement already satisfied: frozendict>=2.3.4 in /opt/conda/lib/python3.11/site-packages (from yfinance) (2.4.4)\n",
            "Requirement already satisfied: peewee>=3.16.2 in /opt/conda/lib/python3.11/site-packages (from yfinance) (3.17.6)\n",
            "Requirement already satisfied: beautifulsoup4>=4.11.1 in /opt/conda/lib/python3.11/site-packages (from yfinance) (4.12.3)\n",
            "Requirement already satisfied: html5lib>=1.1 in /opt/conda/lib/python3.11/site-packages (from yfinance) (1.1)\n",
            "Requirement already satisfied: soupsieve>1.2 in /opt/conda/lib/python3.11/site-packages (from beautifulsoup4>=4.11.1->yfinance) (2.5)\n",
            "Requirement already satisfied: six>=1.9 in /opt/conda/lib/python3.11/site-packages (from html5lib>=1.1->yfinance) (1.16.0)\n",
            "Requirement already satisfied: webencodings in /opt/conda/lib/python3.11/site-packages (from html5lib>=1.1->yfinance) (0.5.1)\n",
            "Requirement already satisfied: python-dateutil>=2.8.2 in /opt/conda/lib/python3.11/site-packages (from pandas>=1.3.0->yfinance) (2.9.0)\n",
            "Requirement already satisfied: tzdata>=2022.7 in /opt/conda/lib/python3.11/site-packages (from pandas>=1.3.0->yfinance) (2024.2)\n",
            "Requirement already satisfied: charset-normalizer<4,>=2 in /opt/conda/lib/python3.11/site-packages (from requests>=2.31->yfinance) (3.3.2)\n",
            "Requirement already satisfied: idna<4,>=2.5 in /opt/conda/lib/python3.11/site-packages (from requests>=2.31->yfinance) (3.7)\n",
            "Requirement already satisfied: urllib3<3,>=1.21.1 in /opt/conda/lib/python3.11/site-packages (from requests>=2.31->yfinance) (2.2.1)\n",
            "Requirement already satisfied: certifi>=2017.4.17 in /opt/conda/lib/python3.11/site-packages (from requests>=2.31->yfinance) (2024.6.2)\n",
            "Requirement already satisfied: pandas in /opt/conda/lib/python3.11/site-packages (2.2.3)\n",
            "Requirement already satisfied: numpy>=1.23.2 in /opt/conda/lib/python3.11/site-packages (from pandas) (2.1.1)\n",
            "Requirement already satisfied: python-dateutil>=2.8.2 in /opt/conda/lib/python3.11/site-packages (from pandas) (2.9.0)\n",
            "Requirement already satisfied: pytz>=2020.1 in /opt/conda/lib/python3.11/site-packages (from pandas) (2024.1)\n",
            "Requirement already satisfied: tzdata>=2022.7 in /opt/conda/lib/python3.11/site-packages (from pandas) (2024.2)\n",
            "Requirement already satisfied: six>=1.5 in /opt/conda/lib/python3.11/site-packages (from python-dateutil>=2.8.2->pandas) (1.16.0)\n",
            "Requirement already satisfied: matplotlib in /opt/conda/lib/python3.11/site-packages (3.9.2)\n",
            "Requirement already satisfied: contourpy>=1.0.1 in /opt/conda/lib/python3.11/site-packages (from matplotlib) (1.3.0)\n",
            "Requirement already satisfied: cycler>=0.10 in /opt/conda/lib/python3.11/site-packages (from matplotlib) (0.12.1)\n",
            "Requirement already satisfied: fonttools>=4.22.0 in /opt/conda/lib/python3.11/site-packages (from matplotlib) (4.54.1)\n",
            "Requirement already satisfied: kiwisolver>=1.3.1 in /opt/conda/lib/python3.11/site-packages (from matplotlib) (1.4.7)\n",
            "Requirement already satisfied: numpy>=1.23 in /opt/conda/lib/python3.11/site-packages (from matplotlib) (2.1.1)\n",
            "Requirement already satisfied: packaging>=20.0 in /opt/conda/lib/python3.11/site-packages (from matplotlib) (24.0)\n",
            "Requirement already satisfied: pillow>=8 in /opt/conda/lib/python3.11/site-packages (from matplotlib) (10.4.0)\n",
            "Requirement already satisfied: pyparsing>=2.3.1 in /opt/conda/lib/python3.11/site-packages (from matplotlib) (3.1.4)\n",
            "Requirement already satisfied: python-dateutil>=2.7 in /opt/conda/lib/python3.11/site-packages (from matplotlib) (2.9.0)\n",
            "Requirement already satisfied: six>=1.5 in /opt/conda/lib/python3.11/site-packages (from python-dateutil>=2.7->matplotlib) (1.16.0)\n"
          ]
        }
      ],
      "execution_count": 2
    },
    {
      "cell_type": "code",
      "source": "import yfinance as yf\nimport pandas as pd\nimport matplotlib_inline",
      "metadata": {},
      "outputs": [],
      "execution_count": 3
    },
    {
      "cell_type": "markdown",
      "source": "## Using the yfinance Library to Extract Stock Data\n",
      "metadata": {}
    },
    {
      "cell_type": "markdown",
      "source": "Using the `Ticker` module we can create an object that will allow us to access functions to extract data. To do this we need to provide the ticker symbol for the stock, here the company is Apple and the ticker symbol is `AAPL`.\n",
      "metadata": {}
    },
    {
      "cell_type": "code",
      "source": "apple = yf.Ticker(\"AAPL\")",
      "metadata": {},
      "outputs": [],
      "execution_count": 4
    },
    {
      "cell_type": "markdown",
      "source": "Now we can access functions and variables to extract the type of data we need. You can view them and what they represent here https://aroussi.com/post/python-yahoo-finance.\n",
      "metadata": {}
    },
    {
      "cell_type": "code",
      "source": "!wget https://cf-courses-data.s3.us.cloud-object-storage.appdomain.cloud/IBMDeveloperSkillsNetwork-PY0220EN-SkillsNetwork/data/apple.json",
      "metadata": {},
      "outputs": [
        {
          "name": "stdout",
          "output_type": "stream",
          "text": [
            "--2024-09-27 18:35:22--  https://cf-courses-data.s3.us.cloud-object-storage.appdomain.cloud/IBMDeveloperSkillsNetwork-PY0220EN-SkillsNetwork/data/apple.json\n",
            "Resolving cf-courses-data.s3.us.cloud-object-storage.appdomain.cloud (cf-courses-data.s3.us.cloud-object-storage.appdomain.cloud)... 169.63.118.104, 169.63.118.104\n",
            "Connecting to cf-courses-data.s3.us.cloud-object-storage.appdomain.cloud (cf-courses-data.s3.us.cloud-object-storage.appdomain.cloud)|169.63.118.104|:443... connected.\n",
            "HTTP request sent, awaiting response... 200 OK\n",
            "Length: 5699 (5.6K) [application/json]\n",
            "Saving to: ‘apple.json’\n",
            "\n",
            "apple.json          100%[===================>]   5.57K  --.-KB/s    in 0s      \n",
            "\n",
            "2024-09-27 18:35:22 (791 MB/s) - ‘apple.json’ saved [5699/5699]\n",
            "\n"
          ]
        }
      ],
      "execution_count": 5
    },
    {
      "cell_type": "markdown",
      "source": "### Stock Info\n",
      "metadata": {}
    },
    {
      "cell_type": "markdown",
      "source": "Using the attribute  <code>info</code> we can extract information about the stock as a Python dictionary.\n",
      "metadata": {}
    },
    {
      "cell_type": "code",
      "source": "import json\nwith open('apple.json') as json_file:\n    apple_info = json.load(json_file)\n    # Print the type of data variable    \n    #print(\"Type:\", type(apple_info))\napple_info",
      "metadata": {},
      "outputs": [],
      "execution_count": null
    },
    {
      "cell_type": "markdown",
      "source": "We can get the <code>'country'</code> using the key country\n",
      "metadata": {}
    },
    {
      "cell_type": "code",
      "source": "apple_info['country']",
      "metadata": {},
      "outputs": [
        {
          "data": {
            "text/plain": [
              "'United States'"
            ]
          },
          "execution_count": 8,
          "metadata": {},
          "output_type": "execute_result"
        }
      ],
      "execution_count": 8
    },
    {
      "cell_type": "markdown",
      "source": "### Extracting Share Price\n",
      "metadata": {}
    },
    {
      "cell_type": "markdown",
      "source": "A share is the single smallest part of a company's stock  that you can buy, the prices of these shares fluctuate over time. Using the <code>history()</code> method we can get the share price of the stock over a certain period of time. Using the `period` parameter we can set how far back from the present to get data. The options for `period` are 1 day (1d), 5d, 1 month (1mo) , 3mo, 6mo, 1 year (1y), 2y, 5y, 10y, ytd, and max.\n",
      "metadata": {}
    },
    {
      "cell_type": "code",
      "source": "apple_share_price_data = apple.history(period=\"max\")",
      "metadata": {},
      "outputs": [],
      "execution_count": 9
    },
    {
      "cell_type": "markdown",
      "source": "The format that the data is returned in is a Pandas DataFrame. With the `Date` as the index the share `Open`, `High`, `Low`, `Close`, `Volume`, and `Stock Splits` are given for each day.\n",
      "metadata": {}
    },
    {
      "cell_type": "code",
      "source": "apple_share_price_data.head()",
      "metadata": {},
      "outputs": [
        {
          "data": {
            "text/html": [
              "<div>\n",
              "<style scoped>\n",
              "    .dataframe tbody tr th:only-of-type {\n",
              "        vertical-align: middle;\n",
              "    }\n",
              "\n",
              "    .dataframe tbody tr th {\n",
              "        vertical-align: top;\n",
              "    }\n",
              "\n",
              "    .dataframe thead th {\n",
              "        text-align: right;\n",
              "    }\n",
              "</style>\n",
              "<table border=\"1\" class=\"dataframe\">\n",
              "  <thead>\n",
              "    <tr style=\"text-align: right;\">\n",
              "      <th></th>\n",
              "      <th>Open</th>\n",
              "      <th>High</th>\n",
              "      <th>Low</th>\n",
              "      <th>Close</th>\n",
              "      <th>Volume</th>\n",
              "      <th>Dividends</th>\n",
              "      <th>Stock Splits</th>\n",
              "    </tr>\n",
              "    <tr>\n",
              "      <th>Date</th>\n",
              "      <th></th>\n",
              "      <th></th>\n",
              "      <th></th>\n",
              "      <th></th>\n",
              "      <th></th>\n",
              "      <th></th>\n",
              "      <th></th>\n",
              "    </tr>\n",
              "  </thead>\n",
              "  <tbody>\n",
              "    <tr>\n",
              "      <th>1980-12-12 00:00:00-05:00</th>\n",
              "      <td>0.098943</td>\n",
              "      <td>0.099373</td>\n",
              "      <td>0.098943</td>\n",
              "      <td>0.098943</td>\n",
              "      <td>469033600</td>\n",
              "      <td>0.0</td>\n",
              "      <td>0.0</td>\n",
              "    </tr>\n",
              "    <tr>\n",
              "      <th>1980-12-15 00:00:00-05:00</th>\n",
              "      <td>0.094211</td>\n",
              "      <td>0.094211</td>\n",
              "      <td>0.093781</td>\n",
              "      <td>0.093781</td>\n",
              "      <td>175884800</td>\n",
              "      <td>0.0</td>\n",
              "      <td>0.0</td>\n",
              "    </tr>\n",
              "    <tr>\n",
              "      <th>1980-12-16 00:00:00-05:00</th>\n",
              "      <td>0.087328</td>\n",
              "      <td>0.087328</td>\n",
              "      <td>0.086898</td>\n",
              "      <td>0.086898</td>\n",
              "      <td>105728000</td>\n",
              "      <td>0.0</td>\n",
              "      <td>0.0</td>\n",
              "    </tr>\n",
              "    <tr>\n",
              "      <th>1980-12-17 00:00:00-05:00</th>\n",
              "      <td>0.089049</td>\n",
              "      <td>0.089479</td>\n",
              "      <td>0.089049</td>\n",
              "      <td>0.089049</td>\n",
              "      <td>86441600</td>\n",
              "      <td>0.0</td>\n",
              "      <td>0.0</td>\n",
              "    </tr>\n",
              "    <tr>\n",
              "      <th>1980-12-18 00:00:00-05:00</th>\n",
              "      <td>0.091630</td>\n",
              "      <td>0.092061</td>\n",
              "      <td>0.091630</td>\n",
              "      <td>0.091630</td>\n",
              "      <td>73449600</td>\n",
              "      <td>0.0</td>\n",
              "      <td>0.0</td>\n",
              "    </tr>\n",
              "  </tbody>\n",
              "</table>\n",
              "</div>"
            ],
            "text/plain": [
              "                               Open      High       Low     Close     Volume  \\\n",
              "Date                                                                           \n",
              "1980-12-12 00:00:00-05:00  0.098943  0.099373  0.098943  0.098943  469033600   \n",
              "1980-12-15 00:00:00-05:00  0.094211  0.094211  0.093781  0.093781  175884800   \n",
              "1980-12-16 00:00:00-05:00  0.087328  0.087328  0.086898  0.086898  105728000   \n",
              "1980-12-17 00:00:00-05:00  0.089049  0.089479  0.089049  0.089049   86441600   \n",
              "1980-12-18 00:00:00-05:00  0.091630  0.092061  0.091630  0.091630   73449600   \n",
              "\n",
              "                           Dividends  Stock Splits  \n",
              "Date                                                \n",
              "1980-12-12 00:00:00-05:00        0.0           0.0  \n",
              "1980-12-15 00:00:00-05:00        0.0           0.0  \n",
              "1980-12-16 00:00:00-05:00        0.0           0.0  \n",
              "1980-12-17 00:00:00-05:00        0.0           0.0  \n",
              "1980-12-18 00:00:00-05:00        0.0           0.0  "
            ]
          },
          "execution_count": 10,
          "metadata": {},
          "output_type": "execute_result"
        }
      ],
      "execution_count": 10
    },
    {
      "cell_type": "markdown",
      "source": "We can reset the index of the DataFrame with the `reset_index` function. We also set the `inplace` paramter to `True` so the change takes place to the DataFrame itself.\n",
      "metadata": {}
    },
    {
      "cell_type": "code",
      "source": "apple_share_price_data.reset_index(inplace=True)",
      "metadata": {},
      "outputs": [],
      "execution_count": 11
    },
    {
      "cell_type": "markdown",
      "source": "We can plot the `Open` price against the `Date`:\n",
      "metadata": {}
    },
    {
      "cell_type": "code",
      "source": "apple_share_price_data.plot(x=\"Date\", y=\"Open\")",
      "metadata": {},
      "outputs": [
        {
          "data": {
            "text/plain": [
              "<Axes: xlabel='Date'>"
            ]
          },
          "execution_count": 12,
          "metadata": {},
          "output_type": "execute_result"
        },
        {
          "data": {
            "image/png": "[encoded data removed]",
            "text/plain": [
              "<Figure size 640x480 with 1 Axes>"
            ]
          },
          "metadata": {},
          "output_type": "display_data"
        }
      ],
      "execution_count": 12
    },
    {
      "cell_type": "markdown",
      "source": "### Extracting Dividends\n",
      "metadata": {}
    },
    {
      "cell_type": "markdown",
      "source": "Dividends are the distribution of a companys profits to shareholders. In this case they are defined as an amount of money returned per share an investor owns. Using the variable `dividends` we can get a dataframe of the data. The period of the data is given by the period defined in the 'history` function.\n",
      "metadata": {}
    },
    {
      "cell_type": "code",
      "source": "apple.dividends",
      "metadata": {},
      "outputs": [
        {
          "data": {
            "text/plain": [
              "Date\n",
              "1987-05-11 00:00:00-04:00    0.000536\n",
              "1987-08-10 00:00:00-04:00    0.000536\n",
              "1987-11-17 00:00:00-05:00    0.000714\n",
              "1988-02-12 00:00:00-05:00    0.000714\n",
              "1988-05-16 00:00:00-04:00    0.000714\n",
              "                               ...   \n",
              "2023-08-11 00:00:00-04:00    0.240000\n",
              "2023-11-10 00:00:00-05:00    0.240000\n",
              "2024-02-09 00:00:00-05:00    0.240000\n",
              "2024-05-10 00:00:00-04:00    0.250000\n",
              "2024-08-12 00:00:00-04:00    0.250000\n",
              "Name: Dividends, Length: 84, dtype: float64"
            ]
          },
          "execution_count": 13,
          "metadata": {},
          "output_type": "execute_result"
        }
      ],
      "execution_count": 13
    },
    {
      "cell_type": "markdown",
      "source": "We can plot the dividends overtime:\n",
      "metadata": {}
    },
    {
      "cell_type": "code",
      "source": "apple.dividends.plot()",
      "metadata": {},
      "outputs": [
        {
          "data": {
            "text/plain": [
              "<Axes: xlabel='Date'>"
            ]
          },
          "execution_count": 14,
          "metadata": {},
          "output_type": "execute_result"
        },
        {
          "data": {
            "image/png": "[encoded data removed]",
            "text/plain": [
              "<Figure size 640x480 with 1 Axes>"
            ]
          },
          "metadata": {},
          "output_type": "display_data"
        }
      ],
      "execution_count": 14
    },
    {
      "cell_type": "markdown",
      "source": "## Exercise \n",
      "metadata": {}
    },
    {
      "cell_type": "markdown",
      "source": "Now using the `Ticker` module create an object for AMD (Advanced Micro Devices) with the ticker symbol is `AMD` called; name the object <code>amd</code>.\n",
      "metadata": {}
    },
    {
      "cell_type": "code",
      "source": "amd=yf.Ticker(\"AMD\")",
      "metadata": {},
      "outputs": [],
      "execution_count": 15
    },
    {
      "cell_type": "code",
      "source": "!wget https://cf-courses-data.s3.us.cloud-object-storage.appdomain.cloud/IBMDeveloperSkillsNetwork-PY0220EN-SkillsNetwork/data/amd.json",
      "metadata": {},
      "outputs": [
        {
          "name": "stdout",
          "output_type": "stream",
          "text": [
            "--2024-09-27 18:50:54--  https://cf-courses-data.s3.us.cloud-object-storage.appdomain.cloud/IBMDeveloperSkillsNetwork-PY0220EN-SkillsNetwork/data/amd.json\n",
            "Resolving cf-courses-data.s3.us.cloud-object-storage.appdomain.cloud (cf-courses-data.s3.us.cloud-object-storage.appdomain.cloud)... 169.63.118.104, 169.63.118.104\n",
            "Connecting to cf-courses-data.s3.us.cloud-object-storage.appdomain.cloud (cf-courses-data.s3.us.cloud-object-storage.appdomain.cloud)|169.63.118.104|:443... connected.\n",
            "HTTP request sent, awaiting response... 200 OK\n",
            "Length: 5838 (5.7K) [application/json]\n",
            "Saving to: ‘amd.json’\n",
            "\n",
            "amd.json            100%[===================>]   5.70K  --.-KB/s    in 0s      \n",
            "\n",
            "2024-09-27 18:50:54 (906 MB/s) - ‘amd.json’ saved [5838/5838]\n",
            "\n"
          ]
        }
      ],
      "execution_count": 16
    },
    {
      "cell_type": "code",
      "source": "import json\nwith open('amd.json') as json_file:\n    amd_info = json.load(json_file)\n    # Print the type of data variable    \n    #print(\"Type:\", type(apple_info))\namd_info",
      "metadata": {},
      "outputs": [],
      "execution_count": null
    },
    {
      "cell_type": "markdown",
      "source": "<b>Question 1</b> Use the key  <code>'country'</code> to find the country the stock belongs to, remember it as it will be a quiz question.\n",
      "metadata": {}
    },
    {
      "cell_type": "code",
      "source": "amd_info['country']",
      "metadata": {},
      "outputs": [
        {
          "data": {
            "text/plain": [
              "'United States'"
            ]
          },
          "execution_count": 22,
          "metadata": {},
          "output_type": "execute_result"
        }
      ],
      "execution_count": 22
    },
    {
      "cell_type": "markdown",
      "source": "<b>Question 2</b> Use the key  <code>'sector'</code> to find the sector the stock belongs to, remember it as it will be a quiz question.\n",
      "metadata": {}
    },
    {
      "cell_type": "code",
      "source": "amd_info['sector']",
      "metadata": {},
      "outputs": [
        {
          "data": {
            "text/plain": [
              "'Technology'"
            ]
          },
          "execution_count": 23,
          "metadata": {},
          "output_type": "execute_result"
        }
      ],
      "execution_count": 23
    },
    {
      "cell_type": "markdown",
      "source": "<b>Question 3</b> Obtain stock data for AMD using the `history` function, set the `period` to max. Find the `Volume` traded on the first day (first row).\n",
      "metadata": {}
    },
    {
      "cell_type": "code",
      "source": "amd_share_price_data = amd.history(period=\"max\")\namd_share_price_data['Volume'].iloc[0]",
      "metadata": {},
      "outputs": [
        {
          "data": {
            "text/plain": [
              "np.int64(219600)"
            ]
          },
          "execution_count": 34,
          "metadata": {},
          "output_type": "execute_result"
        }
      ],
      "execution_count": 34
    },
    {
      "cell_type": "markdown",
      "source": "<h2>About the Authors:</h2> \n\n<a href=\"https://www.linkedin.com/in/joseph-s-50398b136/\">Joseph Santarcangelo</a> has a PhD in Electrical Engineering, his research focused on using machine learning, signal processing, and computer vision to determine how videos impact human cognition. Joseph has been working for IBM since he completed his PhD.\n\nAzim Hirjani\n",
      "metadata": {}
    },
    {
      "cell_type": "markdown",
      "source": "## <h3 align=\"center\"> © IBM Corporation 2020. All rights reserved. <h3/>\n",
      "metadata": {}
    },
    {
      "cell_type": "markdown",
      "source": "<!--## Change Log\n\n| Date (YYYY-MM-DD) | Version | Changed By    | Change Description        |\n| ----------------- | ------- | ------------- | ------------------------- |\n| 2020-11-10        | 1.1     | Malika Singla | Deleted the Optional part |\n| 2020-08-27        | 1.0     | Malika Singla | Added lab to GitLab       |\n\n<hr>\n<p>\n--!>\n",
      "metadata": {}
    }
  ]
}